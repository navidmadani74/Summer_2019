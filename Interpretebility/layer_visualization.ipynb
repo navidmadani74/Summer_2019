{
 "cells": [
  {
   "cell_type": "code",
   "execution_count": 1,
   "metadata": {},
   "outputs": [],
   "source": [
    "\n",
    "import numpy as np\n",
    "import tensorflow as tf\n",
    "\n",
    "import lucid.modelzoo.vision_models as models\n",
    "import lucid.optvis.render as render\n",
    "from lucid.misc.io import show, load\n",
    "from lucid.misc.io.showing import _image_url\n",
    "import lucid.scratch.web.svelte as lucid_svelte"
   ]
  },
  {
   "cell_type": "code",
   "execution_count": 2,
   "metadata": {},
   "outputs": [
    {
     "name": "stdout",
     "output_type": "stream",
     "text": [
      "Trying to build svelte component from html...\n",
      "svelte compile --format iife /tmp/svelte_obs5lvuc/SemanticDict_436a7985_471b_45df_8363_af26aeb90ed9.html > /tmp/svelte_obs5lvuc/SemanticDict_436a7985_471b_45df_8363_af26aeb90ed9.js\n"
     ]
    },
    {
     "name": "stderr",
     "output_type": "stream",
     "text": [
      "WARNING: Logging before flag parsing goes to stderr.\n",
      "W0811 11:24:39.487902 139922957506368 deprecation_wrapper.py:119] From /home/navid/venvs/genv/lib/python3.6/site-packages/lucid/misc/io/reading.py:126: The name tf.gfile.Open is deprecated. Please use tf.io.gfile.GFile instead.\n",
      "\n"
     ]
    },
    {
     "name": "stdout",
     "output_type": "stream",
     "text": [
      "b'svelte version 1.64.1\\ncompiling ../../../../../tmp/svelte_obs5lvuc/SemanticDict_436a7985_471b_45df_8363_af26aeb90ed9.html...\\n'\n"
     ]
    }
   ],
   "source": [
    "%%html_define_svelte SemanticDict\n",
    "\n",
    "<div class=\"figure\">\n",
    "    <div class=\"input_image\">\n",
    "        <div class=\"image\" style=\"background-image: url({{image_url}}); z-index: -10;\"></div>\n",
    "        <svg class=\"pointer_container\" viewBox=\"0 0 {{N[0]}} {{N[1]}}\">\n",
    "\n",
    "            {{#each xs as x}}\n",
    "            {{#each ys as y}}\n",
    "              <rect x={{x}} y={{y}} width=1 height=1\n",
    "                class={{(x == pos[0] && y == pos[1])? \"selected\" : \"unselected\"}}\n",
    "                on:mouseover=\"set({pos: [x,y]})\"></rect>\n",
    "            {{/each}}\n",
    "            {{/each}}\n",
    "        </svg>\n",
    "    </div>\n",
    "    <div class=\"dict\" >\n",
    "        {{#each present_acts as act, act_ind}}\n",
    "        <div class=\"entry\">\n",
    "            <div class=\"sprite\" style=\"background-image: url({{spritemap_url}}); width: {{sprite_size}}px; height: {{sprite_size}}px; background-position: -{{sprite_size*(act.n%sprite_n_wrap)}}px -{{sprite_size*Math.floor(act.n/sprite_n_wrap)}}px; --info: {{act.n}};\"></div>\n",
    "            <div class=\"value\" style=\"height: {{sprite_size*act.v/1000.0}}px;\"></div>\n",
    "        </div>\n",
    "        {{/each}}\n",
    "    </div>\n",
    "</div>\n",
    "\n",
    "\n",
    "<style>\n",
    "    .figure {\n",
    "        padding: 10px;\n",
    "        width: 1024px;\n",
    "    }\n",
    "    .input_image {\n",
    "        display: inline-block;\n",
    "        width: 224px;\n",
    "        height: 224px;\n",
    "    }\n",
    "    .input_image .image, .input_image .pointer_constainer {\n",
    "        position: absolute;\n",
    "        width: 224px;\n",
    "        height: 224px;\n",
    "        border-radius: 8px;\n",
    "    }\n",
    "    .pointer_container rect {\n",
    "      opacity: 0;\n",
    "    }\n",
    "    .pointer_container .selected {\n",
    "      opacity: 1;\n",
    "      fill: none;\n",
    "      stroke: hsl(24, 100%, 50%);\n",
    "      stroke-width: 0.1px;\n",
    "    }\n",
    "    \n",
    "    .dict {\n",
    "        height: 128px;\n",
    "        display: inline-block;\n",
    "        vertical-align: bottom;\n",
    "        padding-bottom: 64px;\n",
    "        margin-left: 64px;\n",
    "    }\n",
    "    .entry {\n",
    "        margin-top: 9px;\n",
    "        margin-right: 32px;\n",
    "        display: inline-block;\n",
    "    }\n",
    "    .value {\n",
    "        display: inline-block;\n",
    "        width: 32px;\n",
    "        border-radius: 8px;\n",
    "        background: #777;\n",
    "    }\n",
    "    .sprite {\n",
    "        display: inline-block;\n",
    "        border-radius: 8px;\n",
    "    }\n",
    "    .dict-text {\n",
    "        display: none;\n",
    "        font-size: 24px;\n",
    "        color: #AAA;\n",
    "        margin-bottom: 20px;\n",
    "    }\n",
    "</style>\n",
    "\n",
    "<script>\n",
    "    \n",
    "  function range(n){\n",
    "    return Array(n).fill().map((_, i) => i);\n",
    "  }\n",
    "  \n",
    "  export default {\n",
    "    data () {\n",
    "      return {\n",
    "        spritemap_url: \"\",\n",
    "        sprite_size: 64,\n",
    "        sprite_n_wrap: 1e8,\n",
    "        image_url: \"\",\n",
    "        activations: [[[{n: 0, v: 1}]]],\n",
    "        pos: [0,0]\n",
    "      };\n",
    "    },\n",
    "    computed: {\n",
    "      present_acts: (activations, pos) => activations[pos[1]][pos[0]],\n",
    "      N: activations => [activations.length, activations[0].length],\n",
    "      xs: (N) => range(N[0]),\n",
    "      ys: (N) => range(N[1])\n",
    "    },\n",
    "    helpers: {range}\n",
    "  };\n",
    "</script>"
   ]
  },
  {
   "cell_type": "code",
   "execution_count": 3,
   "metadata": {},
   "outputs": [],
   "source": [
    "layer_spritemap_sizes = {\n",
    "    'mixed3a' : 16,\n",
    "    'mixed3b' : 21,\n",
    "    'mixed4a' : 22,\n",
    "    'mixed4b' : 22,\n",
    "    'mixed4c' : 22,\n",
    "    'mixed4d' : 22,\n",
    "    'mixed4e' : 28,\n",
    "    'mixed5a' : 28,\n",
    "  }\n",
    "\n",
    "def googlenet_spritemap(layer):\n",
    "  assert layer in layer_spritemap_sizes\n",
    "  size = layer_spritemap_sizes[layer]\n",
    "  url = \"https://storage.googleapis.com/lucid-static/building-blocks/googlenet_spritemaps/sprite_%s_channel_alpha.jpeg\" % layer\n",
    "  return size, url"
   ]
  },
  {
   "cell_type": "code",
   "execution_count": 9,
   "metadata": {},
   "outputs": [],
   "source": [
    "import matplotlib.pyplot as plt\n",
    "\n",
    "googlenet = models.InceptionV1()\n",
    "googlenet.load_graphdef()\n",
    "\n",
    "\n",
    "\n",
    "def googlenet_semantic_dict(layer, img_url):\n",
    "    img = load(img_url)\n",
    "    \n",
    "    # Compute the activations\n",
    "    with tf.Graph().as_default(), tf.Session():\n",
    "        t_input = tf.placeholder(tf.float32, [224, 224, 3])\n",
    "        T = render.import_model(googlenet, t_input, t_input)\n",
    "        activations = T(layer).eval({t_input: img})[0]\n",
    "    \n",
    "    # Find the most interesting position for our initial view\n",
    "    max_mag = activations.max(-1)\n",
    "    max_x = np.argmax(max_mag.max(-1))\n",
    "    max_y = np.argmax(max_mag[max_x])\n",
    "    \n",
    "    # Find appropriate spritemap\n",
    "    spritemap_n, spritemap_url = googlenet_spritemap(layer)\n",
    "    \n",
    "    #plt.imshow()\n",
    "    print(activations.shape, max_mag.shape, max_x, max_y)\n",
    "    \n",
    "    # Actually construct the semantic dictionary interface\n",
    "    # using our *custom component*\n",
    "#     lucid_svelte.SemanticDict({\n",
    "#         \"spritemap_url\": spritemap_url,\n",
    "#         \"sprite_size\": 110,\n",
    "#         \"sprite_n_wrap\": spritemap_n,\n",
    "#         \"image_url\": _image_url(img),\n",
    "#         \"activations\": [[[{\"n\": n, \"v\": float(act_vec[n])} for n in np.argsort(-act_vec)[:4]] for act_vec in act_slice] for act_slice in activations],\n",
    "#         \"pos\" : [max_y, max_x]\n",
    "#     })"
   ]
  },
  {
   "cell_type": "code",
   "execution_count": 10,
   "metadata": {},
   "outputs": [
    {
     "name": "stdout",
     "output_type": "stream",
     "text": [
      "(14, 14, 528) (14, 14) 3 4\n"
     ]
    }
   ],
   "source": [
    "googlenet_semantic_dict(\"mixed4d\", \"https://storage.googleapis.com/lucid-static/building-blocks/examples/dog_cat.png\")"
   ]
  },
  {
   "cell_type": "code",
   "execution_count": null,
   "metadata": {},
   "outputs": [],
   "source": []
  }
 ],
 "metadata": {
  "kernelspec": {
   "display_name": "Python 3",
   "language": "python",
   "name": "python3"
  },
  "language_info": {
   "codemirror_mode": {
    "name": "ipython",
    "version": 3
   },
   "file_extension": ".py",
   "mimetype": "text/x-python",
   "name": "python",
   "nbconvert_exporter": "python",
   "pygments_lexer": "ipython3",
   "version": "3.6.8"
  }
 },
 "nbformat": 4,
 "nbformat_minor": 2
}
