{
 "cells": [
  {
   "cell_type": "code",
   "execution_count": 192,
   "metadata": {},
   "outputs": [],
   "source": [
    "from kt_utils import *\n",
    "\n",
    "import os\n",
    "os.environ[\"CUDA_DEVICE_ORDER\"] = \"PCI_BUS_ID\"   # see issue #152\n",
    "os.environ[\"CUDA_VISIBLE_DEVICES\"] = \"\""
   ]
  },
  {
   "cell_type": "code",
   "execution_count": 193,
   "metadata": {},
   "outputs": [
    {
     "name": "stdout",
     "output_type": "stream",
     "text": [
      "number of training examples = 600\n",
      "number of test examples = 150\n",
      "X_train shape: (600, 64, 64, 3)\n",
      "Y_train shape: (600, 2)\n",
      "X_test shape: (150, 64, 64, 3)\n",
      "Y_test shape: (150, 2)\n",
      "[[1. 0.]\n",
      " [0. 1.]\n",
      " [0. 1.]\n",
      " ...\n",
      " [1. 0.]\n",
      " [1. 0.]\n",
      " [1. 0.]]\n"
     ]
    }
   ],
   "source": [
    "X_train_orig, Y_train_orig, X_test_orig, Y_test_orig, classes = load_dataset()\n",
    "\n",
    "# Normalize image vectors\n",
    "X_train = X_train_orig/255.\n",
    "X_test = X_test_orig/255.\n",
    "\n",
    "# Reshape\n",
    "Y_train = Y_train_orig.T\n",
    "Y_test = Y_test_orig.T\n",
    "\n",
    "Y_train = np.array([np.eye(2)[x[0]] for x in Y_train])\n",
    "Y_test = np.array([np.eye(2)[x[0]] for x in Y_test])\n",
    "\n",
    "\n",
    "print (\"number of training examples = \" + str(X_train.shape[0]))\n",
    "print (\"number of test examples = \" + str(X_test.shape[0]))\n",
    "print (\"X_train shape: \" + str(X_train.shape))\n",
    "print (\"Y_train shape: \" + str(Y_train.shape))\n",
    "print (\"X_test shape: \" + str(X_test.shape))\n",
    "print (\"Y_test shape: \" + str(Y_test.shape))\n",
    "\n",
    "print(Y_train)"
   ]
  },
  {
   "cell_type": "code",
   "execution_count": 194,
   "metadata": {},
   "outputs": [],
   "source": [
    "import matplotlib.pyplot as plt"
   ]
  },
  {
   "cell_type": "code",
   "execution_count": 195,
   "metadata": {},
   "outputs": [
    {
     "data": {
      "text/plain": [
       "<matplotlib.image.AxesImage at 0x7fe3e3ee0d30>"
      ]
     },
     "execution_count": 195,
     "metadata": {},
     "output_type": "execute_result"
    },
    {
     "data": {
      "image/png": "[encoded data removed]",
      "text/plain": [
       "<Figure size 432x288 with 1 Axes>"
      ]
     },
     "metadata": {
      "needs_background": "light"
     },
     "output_type": "display_data"
    }
   ],
   "source": [
    "idx = 11\n",
    "\n",
    "plt.xlabel('happy' if np.argmax(Y_train[idx]) else 'sad')\n",
    "plt.imshow(X_train[idx])"
   ]
  },
  {
   "cell_type": "code",
   "execution_count": 207,
   "metadata": {},
   "outputs": [
    {
     "name": "stdout",
     "output_type": "stream",
     "text": [
      "Model: \"sequential_20\"\n",
      "_________________________________________________________________\n",
      "Layer (type)                 Output Shape              Param #   \n",
      "=================================================================\n",
      "conv2d_40 (Conv2D)           (None, 64, 64, 8)         224       \n",
      "_________________________________________________________________\n",
      "batch_normalization_40 (Batc (None, 64, 64, 8)         32        \n",
      "_________________________________________________________________\n",
      "max_pooling2d_40 (MaxPooling (None, 32, 32, 8)         0         \n",
      "_________________________________________________________________\n",
      "conv2d_41 (Conv2D)           (None, 32, 32, 16)        3216      \n",
      "_________________________________________________________________\n",
      "batch_normalization_41 (Batc (None, 32, 32, 16)        64        \n",
      "_________________________________________________________________\n",
      "max_pooling2d_41 (MaxPooling (None, 16, 16, 16)        0         \n",
      "_________________________________________________________________\n",
      "flatten_20 (Flatten)         (None, 4096)              0         \n",
      "_________________________________________________________________\n",
      "dense_60 (Dense)             (None, 64)                262208    \n",
      "_________________________________________________________________\n",
      "dense_61 (Dense)             (None, 32)                2080      \n",
      "_________________________________________________________________\n",
      "dense_62 (Dense)             (None, 2)                 66        \n",
      "=================================================================\n",
      "Total params: 267,890\n",
      "Trainable params: 267,842\n",
      "Non-trainable params: 48\n",
      "_________________________________________________________________\n"
     ]
    }
   ],
   "source": [
    "from tensorflow.keras.models import Sequential\n",
    "from tensorflow.keras.layers import Flatten, Conv2D, BatchNormalization, MaxPool2D, Dense\n",
    "\n",
    "\n",
    "\n",
    "model = Sequential([\n",
    "    Conv2D(kernel_size=(3,3), input_shape=(64,64,3), filters=8, padding='same', strides=(1,1), activation='relu'),\n",
    "    BatchNormalization(),\n",
    "    MaxPool2D(pool_size=(2,2)),\n",
    "    Conv2D(kernel_size=(5,5), filters=16, padding='same', strides=(1,1), activation='relu'),\n",
    "    BatchNormalization(),\n",
    "    MaxPool2D(pool_size=(2,2)),\n",
    "    Flatten(),\n",
    "    Dense(64, activation='relu'),\n",
    "    Dense(32, activation='relu'),\n",
    "    Dense(2, activation='softmax')\n",
    "])\n",
    "\n",
    "model.summary()"
   ]
  },
  {
   "cell_type": "code",
   "execution_count": 208,
   "metadata": {},
   "outputs": [],
   "source": [
    "model.compile(optimizer = \"Adam\", loss = \"binary_crossentropy\", \n",
    "              metrics = ['accuracy'])\n",
    "\n",
    "# test_ds = tf.data.Dataset.from_tensor_slices((X_test, Y_test)).batch(50)\n",
    "# train_ds = tf.data.Dataset.from_tensor_slices((X_train, Y_train)).batch(16).shuffle(1000)"
   ]
  },
  {
   "cell_type": "code",
   "execution_count": 217,
   "metadata": {},
   "outputs": [
    {
     "name": "stdout",
     "output_type": "stream",
     "text": [
      "Train on 600 samples\n",
      "Epoch 1/20\n",
      "600/600 [==============================] - 1s 2ms/sample - loss: 0.0216 - accuracy: 0.9917\n",
      "Epoch 2/20\n",
      "600/600 [==============================] - 1s 2ms/sample - loss: 0.0210 - accuracy: 0.9933\n",
      "Epoch 3/20\n",
      "600/600 [==============================] - 1s 2ms/sample - loss: 0.0123 - accuracy: 0.9967\n",
      "Epoch 4/20\n",
      "600/600 [==============================] - 1s 2ms/sample - loss: 0.0192 - accuracy: 0.9933\n",
      "Epoch 5/20\n",
      "600/600 [==============================] - 1s 2ms/sample - loss: 0.0250 - accuracy: 0.9900\n",
      "Epoch 6/20\n",
      "600/600 [==============================] - 1s 2ms/sample - loss: 0.0107 - accuracy: 0.9967\n",
      "Epoch 7/20\n",
      "600/600 [==============================] - 1s 2ms/sample - loss: 0.0163 - accuracy: 0.9983\n",
      "Epoch 8/20\n",
      "600/600 [==============================] - 1s 2ms/sample - loss: 0.0546 - accuracy: 0.9783\n",
      "Epoch 9/20\n",
      "600/600 [==============================] - 1s 2ms/sample - loss: 0.1934 - accuracy: 0.9450\n",
      "Epoch 10/20\n",
      "600/600 [==============================] - 1s 2ms/sample - loss: 0.0362 - accuracy: 0.9900\n",
      "Epoch 11/20\n",
      "600/600 [==============================] - 1s 2ms/sample - loss: 0.0163 - accuracy: 0.9950\n",
      "Epoch 12/20\n",
      "600/600 [==============================] - 1s 2ms/sample - loss: 0.0253 - accuracy: 0.9933\n",
      "Epoch 13/20\n",
      "600/600 [==============================] - 1s 2ms/sample - loss: 0.0408 - accuracy: 0.9900\n",
      "Epoch 14/20\n",
      "600/600 [==============================] - 1s 2ms/sample - loss: 0.0065 - accuracy: 0.9967\n",
      "Epoch 15/20\n",
      "600/600 [==============================] - 1s 2ms/sample - loss: 0.0022 - accuracy: 0.9983\n",
      "Epoch 16/20\n",
      "600/600 [==============================] - 1s 2ms/sample - loss: 0.0050 - accuracy: 0.9983\n",
      "Epoch 17/20\n",
      "600/600 [==============================] - 1s 2ms/sample - loss: 0.0024 - accuracy: 0.9983\n",
      "Epoch 18/20\n",
      "600/600 [==============================] - 1s 2ms/sample - loss: 0.0017 - accuracy: 0.9983\n",
      "Epoch 19/20\n",
      "600/600 [==============================] - 1s 2ms/sample - loss: 0.0018 - accuracy: 0.9983\n",
      "Epoch 20/20\n",
      "600/600 [==============================] - 1s 2ms/sample - loss: 7.4638e-04 - accuracy: 1.0000\n"
     ]
    },
    {
     "data": {
      "text/plain": [
       "<tensorflow.python.keras.callbacks.History at 0x7fe3c5798e10>"
      ]
     },
     "execution_count": 217,
     "metadata": {},
     "output_type": "execute_result"
    }
   ],
   "source": [
    "model.fit(X_train, Y_train, batch_size=10, epochs=20)"
   ]
  },
  {
   "cell_type": "code",
   "execution_count": 218,
   "metadata": {},
   "outputs": [
    {
     "name": "stdout",
     "output_type": "stream",
     "text": [
      "150/150 [==============================] - 0s 434us/sample - loss: 0.1189 - accuracy: 0.9600\n"
     ]
    },
    {
     "data": {
      "text/plain": [
       "[0.11890904431541761, 0.96]"
      ]
     },
     "execution_count": 218,
     "metadata": {},
     "output_type": "execute_result"
    }
   ],
   "source": [
    "model.evaluate(X_test, Y_test)"
   ]
  },
  {
   "cell_type": "code",
   "execution_count": 227,
   "metadata": {},
   "outputs": [
    {
     "name": "stdout",
     "output_type": "stream",
     "text": [
      "accuracy=0.9599999785423279\n",
      "tp=144.0, fp=6.0,\n",
      "tn=144.0, fn=6.0,\n"
     ]
    }
   ],
   "source": [
    "res = model.predict(X_test)\n",
    "res = np.array([np.eye(2)[x] for x in np.argmax(res, axis=1)])\n",
    "\n",
    "\n",
    "acc = tf.keras.metrics.Accuracy()\n",
    "tp = tf.keras.metrics.TruePositives()\n",
    "tn = tf.keras.metrics.TrueNegatives()\n",
    "fp = tf.keras.metrics.FalsePositives()\n",
    "fn = tf.keras.metrics.FalseNegatives()\n",
    "\n",
    "acc(res, Y_test)\n",
    "\n",
    "tp(res, Y_test)\n",
    "fp(res, Y_test)\n",
    "\n",
    "print('accuracy={}'.format(acc.result()))\n",
    "print(\"tp={}, fp={},\".format(tp.result(), fp.result()))\n",
    "\n",
    "tp.reset_states()\n",
    "fp.reset_states()\n",
    "tn.reset_states()\n",
    "fn.reset_states()\n",
    "acc.reset_states()\n",
    "\n",
    "tn(res, Y_test)\n",
    "fn(res, Y_test)\n",
    "\n",
    "print(\"tn={}, fn={},\".format(tn.result(), fn.result()))\n",
    "\n",
    "\n"
   ]
  },
  {
   "cell_type": "markdown",
   "metadata": {},
   "source": [
    "# NOTES\n",
    "\n",
    "#### accuracy might be bad because you are outputing float numbers not integers\n",
    "#### If you got float32/64 errors might be for numpy/tensor incompatibilities\n",
    "\n",
    "well I DONT KNOW why metrics dont work and they result in same numbers!"
   ]
  },
  {
   "cell_type": "code",
   "execution_count": 268,
   "metadata": {},
   "outputs": [
    {
     "data": {
      "text/plain": [
       "<matplotlib.image.AxesImage at 0x7fe3d7f21550>"
      ]
     },
     "execution_count": 268,
     "metadata": {},
     "output_type": "execute_result"
    },
    {
     "data": {
      "image/png": "[encoded data removed]",
      "text/plain": [
       "<Figure size 432x288 with 1 Axes>"
      ]
     },
     "metadata": {
      "needs_background": "light"
     },
     "output_type": "display_data"
    }
   ],
   "source": [
    "\n",
    "# some of wrong guesses!\n",
    "\n",
    "wrongs = (np.argmax(res, axis=1) != np.argmax(Y_test, axis=1))\n",
    "\n",
    "\n",
    "plt.imshow(X_test[wrongs][4])"
   ]
  }
 ],
 "metadata": {
  "kernelspec": {
   "display_name": "Python 3",
   "language": "python",
   "name": "python3"
  },
  "language_info": {
   "codemirror_mode": {
    "name": "ipython",
    "version": 3
   },
   "file_extension": ".py",
   "mimetype": "text/x-python",
   "name": "python",
   "nbconvert_exporter": "python",
   "pygments_lexer": "ipython3",
   "version": "3.6.8"
  }
 },
 "nbformat": 4,
 "nbformat_minor": 2
}
