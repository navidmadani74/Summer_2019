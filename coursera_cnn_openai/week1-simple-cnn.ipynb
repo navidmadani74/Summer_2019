{
 "cells": [
  {
   "cell_type": "markdown",
   "metadata": {},
   "source": [
    "## Tensorflow 1.4\n",
    "\n",
    "In the first step I implemented tensorflow a simple cnn using tf 1.4  "
   ]
  },
  {
   "cell_type": "code",
   "execution_count": 1,
   "metadata": {},
   "outputs": [],
   "source": [
    "from cnn_utils import *\n",
    "import math\n",
    "import numpy as np\n",
    "import h5py\n",
    "import matplotlib.pyplot as plt\n",
    "import scipy\n",
    "from PIL import Image\n",
    "from scipy import ndimage\n",
    "import tensorflow as tf\n",
    "from tensorflow.python.framework import ops\n",
    "\n",
    "import os\n",
    "os.environ[\"CUDA_DEVICE_ORDER\"] = \"PCI_BUS_ID\"   # see issue #152\n",
    "os.environ[\"CUDA_VISIBLE_DEVICES\"] = \"\""
   ]
  },
  {
   "cell_type": "code",
   "execution_count": 2,
   "metadata": {},
   "outputs": [],
   "source": [
    "x_train, y_train, x_test, y_test, classes = load_dataset()"
   ]
  },
  {
   "cell_type": "code",
   "execution_count": 3,
   "metadata": {},
   "outputs": [
    {
     "data": {
      "text/plain": [
       "((1080, 64, 64, 3), (1, 1080), (120, 64, 64, 3), (6,))"
      ]
     },
     "execution_count": 3,
     "metadata": {},
     "output_type": "execute_result"
    }
   ],
   "source": [
    "x_train.shape, y_train.shape, x_test.shape, classes.shape"
   ]
  },
  {
   "cell_type": "code",
   "execution_count": 4,
   "metadata": {},
   "outputs": [
    {
     "name": "stdout",
     "output_type": "stream",
     "text": [
      "y=4\n"
     ]
    },
    {
     "data": {
      "image/png": "[encoded data removed]",
      "text/plain": [
       "<Figure size 432x288 with 1 Axes>"
      ]
     },
     "metadata": {
      "needs_background": "light"
     },
     "output_type": "display_data"
    }
   ],
   "source": [
    "idx = 320\n",
    "plt.imshow(x_train[idx])\n",
    "print('y={}'.format(y_train[0][idx]))"
   ]
  },
  {
   "cell_type": "code",
   "execution_count": 5,
   "metadata": {},
   "outputs": [],
   "source": [
    "x_train, x_test = x_train/255, x_test/255\n",
    "\n",
    "# build one-hot labels\n",
    "y_train = np.array(list(map(lambda x: np.eye(len(classes))[int(x[0])], y_train.T)))\n",
    "y_test = np.array(list(map(lambda x: np.eye(len(classes))[int(x[0])], y_test.T)))"
   ]
  },
  {
   "cell_type": "code",
   "execution_count": 6,
   "metadata": {},
   "outputs": [
    {
     "data": {
      "text/plain": [
       "((120, 6), (1080, 6))"
      ]
     },
     "execution_count": 6,
     "metadata": {},
     "output_type": "execute_result"
    }
   ],
   "source": [
    "y_test.shape, y_train.shape"
   ]
  },
  {
   "cell_type": "code",
   "execution_count": null,
   "metadata": {},
   "outputs": [],
   "source": []
  },
  {
   "cell_type": "code",
   "execution_count": null,
   "metadata": {},
   "outputs": [],
   "source": []
  },
  {
   "cell_type": "code",
   "execution_count": 7,
   "metadata": {},
   "outputs": [],
   "source": [
    "def forward_propagation(X, params):\n",
    "    W1, W2 = params['w1'], params['w2']\n",
    "    \n",
    "    Z1 = tf.nn.conv2d(X, W1, strides=[1], padding='SAME')\n",
    "    A1 = tf.nn.relu(Z1)\n",
    "    P1 = tf.nn.max_pool(A1, ksize=[8], strides=[8], padding='SAME')\n",
    "    Z2 = tf.nn.conv2d(P1, W2, strides=[1], padding='SAME')\n",
    "    A2 = tf.nn.relu(Z2)\n",
    "    P2 = tf.nn.max_pool(A2, ksize=[4], strides=[4], padding='SAME')\n",
    "    P2 = tf.contrib.layers.flatten(P2)\n",
    "    Z3 = tf.contrib.layers.fully_connected(P2, 6, activation_fn=None)\n",
    "    \n",
    "    return Z3\n",
    "\n",
    "\n",
    "def comp_loss(Y, labels):\n",
    "    return tf.reduce_mean(tf.nn.softmax_cross_entropy_with_logits\n",
    "                          (logits=Y, labels=labels))\n"
   ]
  },
  {
   "cell_type": "code",
   "execution_count": 8,
   "metadata": {},
   "outputs": [
    {
     "ename": "NameError",
     "evalue": "name 'X' is not defined",
     "output_type": "error",
     "traceback": [
      "\u001b[0;31m---------------------------------------------------------------------------\u001b[0m",
      "\u001b[0;31mNameError\u001b[0m                                 Traceback (most recent call last)",
      "\u001b[0;32m<ipython-input-8-81ec649849f4>\u001b[0m in \u001b[0;36m<module>\u001b[0;34m\u001b[0m\n\u001b[0;32m----> 1\u001b[0;31m \u001b[0mforward_propagation\u001b[0m\u001b[0;34m(\u001b[0m\u001b[0mX\u001b[0m\u001b[0;34m,\u001b[0m \u001b[0mparams\u001b[0m\u001b[0;34m)\u001b[0m\u001b[0;34m\u001b[0m\u001b[0;34m\u001b[0m\u001b[0m\n\u001b[0m",
      "\u001b[0;31mNameError\u001b[0m: name 'X' is not defined"
     ]
    }
   ],
   "source": [
    "forward_propagation(X, params)"
   ]
  },
  {
   "cell_type": "code",
   "execution_count": 9,
   "metadata": {},
   "outputs": [],
   "source": [
    "def random_mini_batch(X, Y, bs):\n",
    "    permutation = list(np.random.permutation(X.shape[0]))\n",
    "    shuffled_x, shuffled_y = X[permutation,:,:,:], Y[permutation,:]\n",
    "    \n",
    "    batches = []\n",
    "    for k in range(X.shape[0]//bs):\n",
    "        mini_batch_x = shuffled_x[k*bs:(k+1)*bs,:,:,:]\n",
    "        mini_batch_y = shuffled_y[k*bs:(k+1)*bs,:]\n",
    "        batches.append((mini_batch_x, mini_batch_y))\n",
    "    return batches\n"
   ]
  },
  {
   "cell_type": "code",
   "execution_count": 68,
   "metadata": {},
   "outputs": [
    {
     "name": "stdout",
     "output_type": "stream",
     "text": [
      "loss in epoch 0 is : 1.8005127796420335\n",
      "loss in epoch 1 is : 1.7930649309246636\n",
      "loss in epoch 2 is : 1.7661988911805335\n",
      "loss in epoch 3 is : 1.6462532513671442\n",
      "loss in epoch 4 is : 1.5614957676993475\n",
      "loss in epoch 5 is : 1.4927244467867742\n",
      "loss in epoch 6 is : 1.4378787130117414\n",
      "loss in epoch 7 is : 1.3968878206279542\n",
      "loss in epoch 8 is : 1.358100961755824\n",
      "loss in epoch 9 is : 1.3009367303715809\n",
      "loss in epoch 10 is : 1.305431502560775\n",
      "loss in epoch 11 is : 1.2417951860913525\n",
      "loss in epoch 12 is : 1.1913069414871718\n",
      "loss in epoch 13 is : 1.1731864175310847\n",
      "loss in epoch 14 is : 1.1333575866840506\n",
      "loss in epoch 15 is : 1.1299971916057443\n",
      "loss in epoch 16 is : 1.1062404248449533\n",
      "loss in epoch 17 is : 1.084407552524849\n",
      "loss in epoch 18 is : 1.0529624963248219\n",
      "loss in epoch 19 is : 1.0510739968330767\n",
      "loss in epoch 20 is : 1.0249129434426627\n",
      "loss in epoch 21 is : 1.0180492569450974\n",
      "loss in epoch 22 is : 1.010941124348729\n",
      "loss in epoch 23 is : 0.9855264411480338\n",
      "loss in epoch 24 is : 1.0004425043309177\n",
      "loss in epoch 25 is : 0.9572462643738149\n",
      "loss in epoch 26 is : 0.9797910860291236\n",
      "loss in epoch 27 is : 0.9728073764730382\n",
      "loss in epoch 28 is : 0.9452343276805345\n",
      "loss in epoch 29 is : 0.9436089448906759\n",
      "loss in epoch 30 is : 0.9382223666266156\n",
      "loss in epoch 31 is : 0.9082156703979878\n",
      "loss in epoch 32 is : 0.940207194123003\n",
      "loss in epoch 33 is : 0.90608662587625\n",
      "loss in epoch 34 is : 0.8909918271281098\n",
      "loss in epoch 35 is : 0.86641693694724\n",
      "loss in epoch 36 is : 0.8851480751677794\n",
      "loss in epoch 37 is : 0.8556337776007479\n",
      "loss in epoch 38 is : 0.8409931265093662\n",
      "loss in epoch 39 is : 0.8292456131290504\n",
      "loss in epoch 40 is : 0.841246264400305\n",
      "loss in epoch 41 is : 0.8604215353175445\n",
      "loss in epoch 42 is : 0.8648898183471626\n",
      "loss in epoch 43 is : 0.8002766693631805\n",
      "loss in epoch 44 is : 0.8009652713382687\n",
      "loss in epoch 45 is : 0.7960446671479282\n",
      "loss in epoch 46 is : 0.7939097061753271\n",
      "loss in epoch 47 is : 0.8277449563697533\n",
      "loss in epoch 48 is : 0.8237262140545577\n",
      "loss in epoch 49 is : 0.7687236136860315\n",
      "loss in epoch 50 is : 0.7909358367323879\n",
      "loss in epoch 51 is : 0.7399391076631019\n",
      "loss in epoch 52 is : 0.7465345724313346\n",
      "loss in epoch 53 is : 0.7523851303590668\n",
      "loss in epoch 54 is : 0.7138241473585368\n",
      "loss in epoch 55 is : 0.7409669755509608\n",
      "loss in epoch 56 is : 0.705654724880501\n",
      "loss in epoch 57 is : 0.7041435269293961\n",
      "loss in epoch 58 is : 0.748829680598444\n",
      "loss in epoch 59 is : 0.7359956788520021\n",
      "loss in epoch 60 is : 0.7067266550880887\n",
      "loss in epoch 61 is : 0.7000149569853586\n",
      "loss in epoch 62 is : 0.6695483827756514\n",
      "loss in epoch 63 is : 0.6722502933332217\n",
      "loss in epoch 64 is : 0.6645132256326853\n",
      "loss in epoch 65 is : 0.6909187383673813\n",
      "loss in epoch 66 is : 0.6661764824831926\n",
      "loss in epoch 67 is : 0.6448206606286541\n",
      "loss in epoch 68 is : 0.6529636064337359\n",
      "loss in epoch 69 is : 0.6980627489586672\n",
      "loss in epoch 70 is : 0.6504645467632347\n",
      "loss in epoch 71 is : 0.6413084115419126\n",
      "loss in epoch 72 is : 0.6329154811661554\n",
      "loss in epoch 73 is : 0.5953078111288724\n",
      "loss in epoch 74 is : 0.5912718472105487\n",
      "loss in epoch 75 is : 0.6008960728844006\n",
      "loss in epoch 76 is : 0.5928172508461608\n",
      "loss in epoch 77 is : 0.608144751439492\n",
      "loss in epoch 78 is : 0.5932554621939308\n",
      "loss in epoch 79 is : 0.6103369869567733\n",
      "loss in epoch 80 is : 0.6093370448108071\n",
      "loss in epoch 81 is : 0.5826812648662814\n",
      "loss in epoch 82 is : 0.5818519698524919\n",
      "loss in epoch 83 is : 0.5965300157528232\n",
      "loss in epoch 84 is : 0.6150115761491987\n",
      "loss in epoch 85 is : 0.5705161876976489\n",
      "loss in epoch 86 is : 0.5635911222133373\n",
      "loss in epoch 87 is : 0.5726767556258925\n",
      "loss in epoch 88 is : 0.541583132205738\n",
      "loss in epoch 89 is : 0.5504341470422566\n",
      "loss in epoch 90 is : 0.5443325789852271\n",
      "loss in epoch 91 is : 0.5467884403963884\n",
      "loss in epoch 92 is : 0.5391038167117923\n",
      "loss in epoch 93 is : 0.5750965863052341\n",
      "loss in epoch 94 is : 0.5413458489778417\n",
      "loss in epoch 95 is : 0.521430530619842\n",
      "loss in epoch 96 is : 0.6208526713566647\n",
      "loss in epoch 97 is : 0.5237874746046685\n",
      "loss in epoch 98 is : 0.5290438106490504\n",
      "loss in epoch 99 is : 0.5632309149260877\n"
     ]
    }
   ],
   "source": [
    "costs = []\n",
    "epochs = 100\n",
    "with tf.device('/cpu:0'):\n",
    "    bs = 10\n",
    "    \n",
    "    ops.reset_default_graph()\n",
    "\n",
    "    X = tf.placeholder(tf.float32, name='X', shape=(None, 64, 64, 3))\n",
    "    Y = tf.placeholder(tf.float32, name='Y', shape=[None, 6])\n",
    "\n",
    "    with tf.variable_scope('declaration', reuse=tf.AUTO_REUSE):\n",
    "        w1 = tf.get_variable('w1', shape=(4,4,3,8), initializer=tf.contrib.layers.xavier_initializer())\n",
    "        w2 = tf.get_variable('w2', shape=(2,2,8,16), initializer=tf.contrib.layers.xavier_initializer())\n",
    "        params = {'w1': w1, 'w2': w2}\n",
    "\n",
    "    output = forward_propagation(X, params)\n",
    "    loss = comp_loss(output, Y)\n",
    "    optimizer = tf.train.AdamOptimizer(learning_rate=0.005).minimize(loss)\n",
    "\n",
    "    init = tf.global_variables_initializer()\n",
    "\n",
    "    saver = tf.train.Saver()\n",
    "    with tf.Session() as sess:\n",
    "        sess.run(init)\n",
    "\n",
    "        for epoch in range(epochs):\n",
    "            batch_loss = 0\n",
    "            num_batches = x_train.shape[0]//bs\n",
    "            batches = random_mini_batch(x_train, y_train, bs)\n",
    "\n",
    "            for x,y in batches:\n",
    "                _, bloss = sess.run([optimizer, loss], feed_dict={X: x, Y: y})\n",
    "                batch_loss += bloss / num_batches\n",
    "\n",
    "            print(\"loss in epoch {} is : {}\".format(epoch, batch_loss))\n",
    "            saver.save(sess, './sessoin-tmp.cptk')\n",
    "            "
   ]
  },
  {
   "cell_type": "code",
   "execution_count": 41,
   "metadata": {},
   "outputs": [
    {
     "data": {
      "text/plain": [
       "[<matplotlib.lines.Line2D at 0x7f805c559e48>]"
      ]
     },
     "execution_count": 41,
     "metadata": {},
     "output_type": "execute_result"
    },
    {
     "data": {
      "image/png": "[encoded data removed]",
      "text/plain": [
       "<Figure size 432x288 with 1 Axes>"
      ]
     },
     "metadata": {
      "needs_background": "light"
     },
     "output_type": "display_data"
    }
   ],
   "source": [
    "plt.plot(costs)"
   ]
  },
  {
   "cell_type": "code",
   "execution_count": 74,
   "metadata": {},
   "outputs": [
    {
     "name": "stdout",
     "output_type": "stream",
     "text": [
      "train_acc: 0.8009259104728699 test_acc: 0.7166666388511658\n"
     ]
    },
    {
     "data": {
      "image/png": "[encoded data removed]",
      "text/plain": [
       "<Figure size 432x288 with 4 Axes>"
      ]
     },
     "metadata": {
      "needs_background": "light"
     },
     "output_type": "display_data"
    }
   ],
   "source": [
    "saver = tf.train.Saver()\n",
    "\n",
    "with tf.Session() as sess:\n",
    "    saver.restore(sess,  './sessoin-tmp.cptk')\n",
    "    \n",
    "    correct = tf.equal(tf.arg_max(Y,1), tf.arg_max(output,1))\n",
    "    _acc = tf.reduce_mean(tf.cast(correct, tf.float32))\n",
    "    train_acc = _acc.eval({X:x_train, Y:y_train})\n",
    "    test_acc = _acc.eval({X:x_test, Y:y_test})\n",
    "    \n",
    "    print(\"train_acc: {} test_acc: {}\".format(train_acc, test_acc))\n",
    "    \n",
    "    idx = 12\n",
    "    \n",
    "    fig = plt.figure()\n",
    "    tests = [12, 14, 30, 40]\n",
    "    for idx, i in enumerate(tests):\n",
    "        chosen_x = np.array([x_test[i,:,:,:]])\n",
    "        predicted = tf.arg_max(output, dimension=1)\n",
    "        res = sess.run([predicted], feed_dict={X:chosen_x})\n",
    "        \n",
    "        plt.subplot(1, len(tests), idx+1)\n",
    "        plt.title(\"predicted: {}\".format(res[0]))\n",
    "        plt.imshow(x_test[i])\n",
    "    "
   ]
  },
  {
   "cell_type": "markdown",
   "metadata": {},
   "source": [
    "## Tensorflow 2.0\n",
    "\n",
    "In this step i'm gonna implement previous model using keras in tf 2.0"
   ]
  },
  {
   "cell_type": "code",
   "execution_count": 51,
   "metadata": {},
   "outputs": [],
   "source": [
    "import tensorflow as tf\n",
    "\n",
    "tf.__version__\n",
    "import os\n",
    "os.environ[\"CUDA_DEVICE_ORDER\"] = \"PCI_BUS_ID\"   # see issue #152\n",
    "os.environ[\"CUDA_VISIBLE_DEVICES\"] = \"\""
   ]
  },
  {
   "cell_type": "code",
   "execution_count": 52,
   "metadata": {},
   "outputs": [],
   "source": [
    "from cnn_utils import *\n",
    "\n",
    "x_train, y_train, x_test, y_test, classes = load_dataset()\n",
    "batch_size = 25\n",
    "\n",
    "x_train = x_train / 255\n",
    "x_test = x_test / 255\n",
    "\n",
    "y_train = y_train.T\n",
    "y_test = y_test.T\n"
   ]
  },
  {
   "cell_type": "code",
   "execution_count": 53,
   "metadata": {},
   "outputs": [
    {
     "name": "stdout",
     "output_type": "stream",
     "text": [
      "<BatchDataset shapes: ((None, 64, 64, 3), (None, 1)), types: (tf.float64, tf.int64)> <BatchDataset shapes: ((None, 64, 64, 3), (None, 1)), types: (tf.float64, tf.int64)>\n"
     ]
    }
   ],
   "source": [
    "# batching and shuffling dataset\n",
    "# initial dimentions should match\n",
    "\n",
    "train_ds = tf.data.Dataset.from_tensor_slices(\n",
    "(x_train, y_train)).shuffle(1000).batch(batch_size)\n",
    "\n",
    "test_ds = tf.data.Dataset.from_tensor_slices(\n",
    "(x_test, y_test)).batch(batch_size)\n",
    "\n",
    "print(train_ds, test_ds)"
   ]
  },
  {
   "cell_type": "code",
   "execution_count": 54,
   "metadata": {},
   "outputs": [],
   "source": [
    "from tensorflow.keras import Model\n",
    "from tensorflow.keras.layers import Dense, Flatten, Conv2D\n",
    "\n",
    "\n",
    "class CnnModel(Model):\n",
    "    def __init__(self):\n",
    "        super(CnnModel, self).__init__()\n",
    "        self.conv1 = Conv2D(32, 3, activation='relu')\n",
    "        self.flatten = Flatten()\n",
    "        self.d1 = Dense(128, activation='relu')\n",
    "        self.d2 = Dense(6, activation='softmax')\n",
    "    \n",
    "    def call(self, x):\n",
    "        x = self.conv1(x)\n",
    "        x = self.flatten(x)\n",
    "        x = self.d1(x)\n",
    "        return self.d2(x)\n",
    "\n",
    "model = CnnModel()\n",
    "    "
   ]
  },
  {
   "cell_type": "code",
   "execution_count": null,
   "metadata": {},
   "outputs": [],
   "source": []
  },
  {
   "cell_type": "code",
   "execution_count": 55,
   "metadata": {},
   "outputs": [],
   "source": [
    "loss = tf.keras.losses.SparseCategoricalCrossentropy()\n",
    "optimizer = tf.keras.optimizers.Adam()\n",
    "train_loss = tf.keras.metrics.Mean(name='train_loss')\n",
    "test_loss = tf.keras.metrics.Mean(name='test_loss')\n",
    "\n",
    "train_acc = tf.keras.metrics.SparseCategoricalAccuracy(name='train_acc')\n",
    "test_acc = tf.keras.metrics.SparseCategoricalAccuracy(name='test_acc')"
   ]
  },
  {
   "cell_type": "code",
   "execution_count": 56,
   "metadata": {},
   "outputs": [],
   "source": [
    "@tf.function\n",
    "def train_step(images, labels):\n",
    "    with tf.GradientTape() as tape:\n",
    "        pred = model(images)\n",
    "        t_loss = loss(labels, pred)\n",
    "    gradients = tape.gradient(t_loss, model.trainable_variables)\n",
    "    optimizer.apply_gradients(zip(gradients, model.trainable_variables))\n",
    "\n",
    "    train_loss(t_loss)\n",
    "    train_acc(labels, pred)\n",
    "\n",
    "\n"
   ]
  },
  {
   "cell_type": "code",
   "execution_count": 57,
   "metadata": {},
   "outputs": [],
   "source": [
    "@tf.function\n",
    "def test_step(images, labels):\n",
    "  predictions = model(images)\n",
    "  t_loss = loss(labels, predictions)\n",
    "\n",
    "  test_loss(t_loss)\n",
    "  test_acc(labels, predictions)"
   ]
  },
  {
   "cell_type": "code",
   "execution_count": null,
   "metadata": {},
   "outputs": [],
   "source": []
  },
  {
   "cell_type": "code",
   "execution_count": 58,
   "metadata": {},
   "outputs": [
    {
     "name": "stdout",
     "output_type": "stream",
     "text": [
      "Epoch 1, Loss: 3.659438133239746, Accuracy: 0.27222222089767456, Test Loss: 1.4499263763427734, Test Accuracy: 0.4833333194255829\n",
      "Epoch 2, Loss: 2.3691024780273438, Accuracy: 0.45601850748062134, Test Loss: 1.3363101482391357, Test Accuracy: 0.5291666388511658\n",
      "Epoch 3, Loss: 1.7994730472564697, Accuracy: 0.5666666626930237, Test Loss: 1.1130446195602417, Test Accuracy: 0.6194444298744202\n",
      "Epoch 4, Loss: 1.4549657106399536, Accuracy: 0.6462963223457336, Test Loss: 0.9793480038642883, Test Accuracy: 0.6666666865348816\n",
      "Epoch 5, Loss: 1.2243974208831787, Accuracy: 0.7035185098648071, Test Loss: 0.8764980435371399, Test Accuracy: 0.7066666483879089\n",
      "Epoch 6, Loss: 1.0563997030258179, Accuracy: 0.7466049194335938, Test Loss: 0.809787929058075, Test Accuracy: 0.730555534362793\n",
      "Epoch 7, Loss: 0.9264386892318726, Accuracy: 0.7806878089904785, Test Loss: 0.750576376914978, Test Accuracy: 0.7547619342803955\n",
      "Epoch 8, Loss: 0.823894739151001, Accuracy: 0.8068286776542664, Test Loss: 0.7017116546630859, Test Accuracy: 0.7749999761581421\n",
      "Epoch 9, Loss: 0.7416090369224548, Accuracy: 0.8273662328720093, Test Loss: 0.6634392142295837, Test Accuracy: 0.7870370149612427\n",
      "Epoch 10, Loss: 0.6739645004272461, Accuracy: 0.8439815044403076, Test Loss: 0.6553395986557007, Test Accuracy: 0.7858333587646484\n",
      "Epoch 11, Loss: 0.6199560761451721, Accuracy: 0.8572390675544739, Test Loss: 0.637319028377533, Test Accuracy: 0.7909091114997864\n",
      "Epoch 12, Loss: 0.5737707614898682, Accuracy: 0.8683642148971558, Test Loss: 0.6151403784751892, Test Accuracy: 0.7979166507720947\n",
      "Epoch 13, Loss: 0.532422661781311, Accuracy: 0.8782763481140137, Test Loss: 0.6026117205619812, Test Accuracy: 0.8012820482254028\n",
      "Epoch 14, Loss: 0.4973127543926239, Accuracy: 0.8865740895271301, Test Loss: 0.6172512769699097, Test Accuracy: 0.7946428656578064\n",
      "Epoch 15, Loss: 0.46853411197662354, Accuracy: 0.8934568166732788, Test Loss: 0.6087480783462524, Test Accuracy: 0.7977777719497681\n",
      "Epoch 16, Loss: 0.44120022654533386, Accuracy: 0.8998842835426331, Test Loss: 0.5940791964530945, Test Accuracy: 0.8026041388511658\n",
      "Epoch 17, Loss: 0.41660362482070923, Accuracy: 0.905773401260376, Test Loss: 0.5820004343986511, Test Accuracy: 0.8068627715110779\n",
      "Epoch 18, Loss: 0.3947756290435791, Accuracy: 0.9110082387924194, Test Loss: 0.5677223801612854, Test Accuracy: 0.8129629492759705\n",
      "Epoch 19, Loss: 0.37474873661994934, Accuracy: 0.9156920313835144, Test Loss: 0.5576479434967041, Test Accuracy: 0.8157894611358643\n",
      "Epoch 20, Loss: 0.3566920757293701, Accuracy: 0.9199073910713196, Test Loss: 0.547814130783081, Test Accuracy: 0.8191666603088379\n"
     ]
    }
   ],
   "source": [
    "epochs = 20\n",
    "\n",
    "for epoch in range(epochs):\n",
    "    for images, labels in train_ds:\n",
    "        train_step(images, labels)\n",
    "\n",
    "    for images, labels in test_ds:\n",
    "        test_step(images, labels)\n",
    "\n",
    "    print('Epoch {}, Loss: {}, Accuracy: {}, Test Loss: {}, Test Accuracy: {}'.format(\n",
    "        epoch + 1,\n",
    "        train_loss.result(),\n",
    "        train_acc.result(),\n",
    "        test_loss.result(),\n",
    "        test_acc.result()\n",
    "    ))"
   ]
  },
  {
   "cell_type": "code",
   "execution_count": null,
   "metadata": {},
   "outputs": [],
   "source": []
  },
  {
   "cell_type": "code",
   "execution_count": null,
   "metadata": {},
   "outputs": [],
   "source": []
  }
 ],
 "metadata": {
  "kernelspec": {
   "display_name": "Python 3",
   "language": "python",
   "name": "python3"
  },
  "language_info": {
   "codemirror_mode": {
    "name": "ipython",
    "version": 3
   },
   "file_extension": ".py",
   "mimetype": "text/x-python",
   "name": "python",
   "nbconvert_exporter": "python",
   "pygments_lexer": "ipython3",
   "version": "3.6.8"
  }
 },
 "nbformat": 4,
 "nbformat_minor": 2
}
